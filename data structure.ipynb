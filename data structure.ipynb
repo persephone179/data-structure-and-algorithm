{
 "cells": [
  {
   "cell_type": "markdown",
   "id": "924be2f7",
   "metadata": {},
   "source": [
    ".<!DOCTYPE html>\n",
    "<html lang=\"en\">\n",
    "<head>\n",
    "  <meta charset=\"UTF-8\">\n",
    "  <title>Student Management System - Sorting Algorithms</title>\n",
    "</head>\n",
    "<body>\n",
    "  <h1>Student Management System - Sorting Algorithms</h1>\n",
    "\n",
    "  <p><strong>Name</strong>:Lelise Workie</p>\n",
    "  <p><strong>ID</strong>: DBU1601304</p>\n",
    "  <p><strong>Department</strong>: Computer Science</p>\n",
    "\n",
    "  <p><strong>GitHub</strong>: \n",
    "    <a href=\"https://github.com/persephone179/data-structure-and-algorithms\" style=\"display: inline-flex; align-items: center; text-decoration: none;\">\n",
    "      <img src=\"https://github.githubassets.com/images/modules/logos_page/GitHub-Mark.png\" alt=\"GitHub\" width=\"20\" height=\"20\" style=\"margin-right: 6px;\">\n",
    "      <span style=\"font-weight: bold;\">Lelise</span>\n",
    "    </a>\n",
    "  </p>\n",
    "</body>\n",
    "</html>\n"
   ]
  },
  {
   "cell_type": "markdown",
   "id": "bf715746",
   "metadata": {},
   "source": [
    "# 👥 Sample list of student dictionaries\n"
   ]
  },
  {
   "cell_type": "code",
   "execution_count": null,
   "id": "89059a88",
   "metadata": {},
   "outputs": [],
   "source": [
    "students = [\n",
    "    {'id':'DBU1500010', 'name': 'Dawit',   'dept': 'DS', 'cgpa': 3.34},\n",
    "    {'id':'DBU1500002', 'name': 'Abrham',  'dept': 'CS', 'cgpa': 3.12},\n",
    "    {'id':'DBU1500012', 'name': 'Soliana', 'dept': 'DS', 'cgpa': 2.74},\n",
    "    {'id':'DBU1500005', 'name': 'Rahel',   'dept': 'CS', 'cgpa': 3.10},\n",
    "    {'id':'DBU1500008', 'name': 'Yared',   'dept': 'SE', 'cgpa': 2.98},\n",
    "    {'id':'DBU1500004', 'name': 'Marta',   'dept': 'CS', 'cgpa': 3.65},\n",
    "    {'id':'DBU1500007', 'name': 'Lidya',   'dept': 'DS', 'cgpa': 2.45},\n",
    "    {'id':'DBU1500011', 'name': 'Nahom',   'dept': 'CS', 'cgpa': 3.40},\n",
    "    {'id':'DBU1500001', 'name': 'Blen',    'dept': 'SE', 'cgpa': 3.21},\n",
    "    {'id':'DBU1500009', 'name': 'Samuel',  'dept': 'DS', 'cgpa': 3.50},\n",
    "]"
   ]
  },
  {
   "cell_type": "markdown",
   "id": "bb5bcf4a",
   "metadata": {},
   "source": [
    "# 💻 Define sorting functions \n"
   ]
  },
  {
   "cell_type": "code",
   "execution_count": null,
   "id": "dc1c1d97",
   "metadata": {},
   "outputs": [],
   "source": [
    "def bubble_sort_by_id(student_list):\n",
    "    n = len(student_list)\n",
    "    for i in range(n):\n",
    "        for j in range(0, n - i - 1):\n",
    "            if student_list[j]['id'] > student_list[j + 1]['id']:\n",
    "                student_list[j], student_list[j + 1] = student_list[j + 1], student_list[j]\n",
    "    return student_list\n"
   ]
  },
  {
   "cell_type": "code",
   "execution_count": null,
   "id": "bb707a76",
   "metadata": {},
   "outputs": [],
   "source": [
    "def insertion_sort_by_name(student_list):\n",
    "    for i in range(1, len(student_list)):\n",
    "        key = student_list[i]\n",
    "        j = i - 1\n",
    "        while j >= 0 and student_list[j]['name'].lower() > key['name'].lower():\n",
    "            student_list[j + 1] = student_list[j]\n",
    "            j -= 1\n",
    "        student_list[j + 1] = key\n",
    "    return student_list"
   ]
  },
  {
   "cell_type": "code",
   "execution_count": null,
   "id": "887f41cf",
   "metadata": {},
   "outputs": [],
   "source": [
    "\n",
    "def selection_sort_by_cgpa_desc(student_list):\n",
    "    n = len(student_list)\n",
    "    for i in range(n):\n",
    "        max_idx = i\n",
    "        for j in range(i + 1, n):\n",
    "            if student_list[j]['cgpa'] > student_list[max_idx]['cgpa']:\n",
    "                max_idx = j\n",
    "        student_list[i], student_list[max_idx] = student_list[max_idx], student_list[i]\n",
    "    return student_list"
   ]
  },
  {
   "cell_type": "markdown",
   "id": "64ecf1dd",
   "metadata": {},
   "source": [
    "# 🔁 Loop until user chooses to exit\n"
   ]
  },
  {
   "cell_type": "code",
   "execution_count": null,
   "id": "07b198ee",
   "metadata": {},
   "outputs": [],
   "source": [
    "\n",
    "while True:\n",
    "    print(\"\\nWelcome to the Student Management System\")\n",
    "    print(\"\"\"\n",
    "         1. Sort by ID\n",
    "         2. Sort by Name\n",
    "         3. Sort by CGPA\n",
    "         4. Exit\n",
    "    \"\"\")    \n",
    "    choice = input(\"Enter your choice (1-4): \")\n",
    "\n",
    "    if choice == \"1\":\n",
    "        sorted_by_id = bubble_sort_by_id(students.copy())\n",
    "        print(\"\\nStudents sorted by ID (Bubble Sort):\")\n",
    "        for student in sorted_by_id:\n",
    "            print(student)\n",
    "\n",
    "    elif choice == \"2\":\n",
    "        sorted_by_name = insertion_sort_by_name(students.copy())\n",
    "        print(\"\\nStudents sorted by Name (Insertion Sort):\")\n",
    "        for student in sorted_by_name:\n",
    "            print(student)\n",
    "\n",
    "    elif choice == \"3\":\n",
    "        sorted_by_cgpa = selection_sort_by_cgpa_desc(students.copy())\n",
    "        print(\"\\nStudents sorted by CGPA Descending (Selection Sort):\")\n",
    "        for student in sorted_by_cgpa:\n",
    "            print(student)\n",
    "\n",
    "    elif choice == \"4\":\n",
    "        print(\"Exiting the program. Goodbye!\")\n",
    "        break\n",
    "\n",
    "    else:\n",
    "        print(\"Invalid choice. Please try again.\")\n"
   ]
  },
  {
   "cell_type": "markdown",
   "id": "65850754",
   "metadata": {},
   "source": [
    "<h1>🔍 Performance Comparison</h1>\n",
    "Bubble Sort (Sorting by ID)\n",
    "\n",
    "Time Complexity: Worst-case O(n²)\n",
    "\n",
    "How it works: Repeatedly compares adjacent elements and swaps them if they are in the wrong order.\n",
    "\n",
    "In this case: Good for small datasets like your list of 10 students, but becomes inefficient as data grows.\n",
    "\n",
    "Insertion Sort (Sorting by Name)\n",
    "\n",
    "Time Complexity: Worst-case O(n²), Best-case O(n) (if already sorted)\n",
    "\n",
    "How it works: Builds the sorted list one item at a time, inserting each new item into the correct position.\n",
    "\n",
    "In this case: Efficient when the list is almost sorted or small, and works well with strings like names due to fewer comparisons in such cases.\n",
    "\n",
    "Selection Sort (Sorting by CGPA - Descending)\n",
    "\n",
    "Time Complexity: Always O(n²) (regardless of input)\n",
    "\n",
    "How it works: Finds the maximum (or minimum) element and places it at the correct position in each pass.\n",
    "\n",
    "In this case: Performs a lot of comparisons even if the list is already sorted, but does fewer swaps than bubble sort."
   ]
  },
  {
   "cell_type": "markdown",
   "id": "71309f79",
   "metadata": {},
   "source": [
    "✅ Advantages and ❌ Disadvantages for Sorting Dictionary Data\n"
   ]
  },
  {
   "cell_type": "markdown",
   "id": "35954a41",
   "metadata": {},
   "source": [
    "| **Algorithm**     | ✅ **Advantages**                                                                 | ❌ **Disadvantages**                                                  |\n",
    "|------------------|------------------------------------------------------------------------------------|----------------------------------------------------------------------|\n",
    "| **Bubble Sort**   | - Easy to understand and implement<br>- Good for teaching & debugging             | - Very inefficient for large datasets<br>- Many unnecessary swaps    |\n",
    "| **Insertion Sort**| - Efficient for nearly sorted data<br>- Stable (maintains equal values' order)    | - Not suitable for large unsorted data<br>- Many shifts involved     |\n",
    "| **Selection Sort**| - Fewer swaps than Bubble Sort<br>- Simple to code                                | - Always O(n²) even if data is sorted<br>- Not stable                |\n"
   ]
  },
  {
   "cell_type": "markdown",
   "id": "fd492d13",
   "metadata": {},
   "source": [
    "👨‍🏫 Conclusion<br>\n",
    "While these classic algorithms are not ideal for large-scale applications, they are great for learning purposes. For small datasets like your 10-student list, they perform well enough and clearly show how sorting logic works.\n",
    "\n",
    "However, in real-world scenarios, Python’s built-in sorted() function with custom key parameters is faster and more efficient (using Timsort under the hood, which is hybrid and optimized)."
   ]
  }
 ],
 "metadata": {
  "kernelspec": {
   "display_name": "Python 3",
   "language": "python",
   "name": "python3"
  },
  "language_info": {
   "codemirror_mode": {
    "name": "ipython",
    "version": 3
   },
   "file_extension": ".py",
   "mimetype": "text/x-python",
   "name": "python",
   "nbconvert_exporter": "python",
   "pygments_lexer": "ipython3",
   "version": "3.13.0"
  }
 },
 "nbformat": 4,
 "nbformat_minor": 5
}
